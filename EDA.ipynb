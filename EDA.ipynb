{
 "cells": [
  {
   "cell_type": "markdown",
   "id": "98856b72-6ca4-45a7-b687-4037822aff13",
   "metadata": {},
   "source": [
    "# Проблематика\n",
    "Проблематика задачи заключается в привлечении и увеличении покупок пользователей. В условиях растущей конкуренции создание рекомендательной системы является критически важным для удовлетворения клиентов и повышения продаж."
   ]
  },
  {
   "cell_type": "markdown",
   "id": "f4c6786c-e1a5-46e3-ba60-fcd13d5c6736",
   "metadata": {},
   "source": [
    "# Цель\n",
    "Цель: Разработка алгоритма генерации персонализированных предложений на основании предыдущих заказов и заказов других пользователей. Входными данными будут служить данные о заказах товаров различными пользователями. Выходными данными будет являться список рекомендованных товаров для пользователя упорядоченный по вероятности покупки."
   ]
  },
  {
   "cell_type": "markdown",
   "id": "84037df4-6110-4612-9846-f23a76806965",
   "metadata": {},
   "source": [
    "# Представление данных\n",
    "Данные представлены в виде csv таблицы. Каждая строка содержит идентификатор пользователя, товара и время заказа. На основе этих данных, рассматривая совпадения между заказами пользователей, можно составить список рекомендуемых к покупке товаров для конкретного пользователя. Соответственно, представленные данные пригодны для анализа."
   ]
  },
  {
   "cell_type": "code",
   "execution_count": 281,
   "id": "53383907-9f45-4b8b-9e24-339b96ceeabb",
   "metadata": {},
   "outputs": [],
   "source": [
    "import pandas as pd\n",
    "import matplotlib.pyplot as plt\n",
    "import numpy as np\n",
    "\n",
    "from datetime import datetime\n",
    "from matplotlib.ticker import MaxNLocator"
   ]
  },
  {
   "cell_type": "code",
   "execution_count": 283,
   "id": "76486f84-fd53-4e55-b193-62cb25410497",
   "metadata": {},
   "outputs": [],
   "source": [
    "# Read data and delete duplicates\n",
    "data = pd.read_csv('data.csv')"
   ]
  },
  {
   "cell_type": "code",
   "execution_count": 284,
   "id": "81e6df1b-c4d5-44c5-9919-e4584dee313e",
   "metadata": {},
   "outputs": [
    {
     "data": {
      "text/plain": [
       "user_id     21265784\n",
       "item_id     21265784\n",
       "order_ts    21265784\n",
       "dtype: int64"
      ]
     },
     "execution_count": 284,
     "metadata": {},
     "output_type": "execute_result"
    }
   ],
   "source": [
    "data.count()"
   ]
  },
  {
   "cell_type": "code",
   "execution_count": 285,
   "id": "bb6b1fe8-2ca8-4199-8552-d293e2e66a31",
   "metadata": {},
   "outputs": [],
   "source": [
    "# Clearing empty crlls\n",
    "data.dropna(inplace=True)"
   ]
  },
  {
   "cell_type": "code",
   "execution_count": 286,
   "id": "0891cd08-fabe-4001-9ea3-adfa198a0a99",
   "metadata": {},
   "outputs": [
    {
     "data": {
      "text/plain": [
       "user_id     21265784\n",
       "item_id     21265784\n",
       "order_ts    21265784\n",
       "dtype: int64"
      ]
     },
     "execution_count": 286,
     "metadata": {},
     "output_type": "execute_result"
    }
   ],
   "source": [
    "data.count()"
   ]
  },
  {
   "cell_type": "markdown",
   "id": "8698c920-f011-49a2-8544-c96535de9b22",
   "metadata": {},
   "source": [
    "Пропущенных данных нет, так как в каждом столбце одинаковое количество значений."
   ]
  },
  {
   "cell_type": "code",
   "execution_count": 288,
   "id": "ef0263e0-f22b-46ee-86c8-8ece4a2c4d8d",
   "metadata": {},
   "outputs": [],
   "source": [
    "# Duplicaties removal\n",
    "data.drop_duplicates(keep='first', inplace=True)"
   ]
  },
  {
   "cell_type": "code",
   "execution_count": 289,
   "id": "54672866-ca4b-4107-8b11-d7024d78d154",
   "metadata": {},
   "outputs": [
    {
     "data": {
      "text/plain": [
       "user_id\n",
       "173306    3339\n",
       "305110    2587\n",
       "815043    2579\n",
       "42097     2464\n",
       "570310    2097\n",
       "          ... \n",
       "162064       1\n",
       "747703       1\n",
       "495054       1\n",
       "600871       1\n",
       "342597       1\n",
       "Name: count, Length: 1057265, dtype: int64"
      ]
     },
     "execution_count": 289,
     "metadata": {},
     "output_type": "execute_result"
    }
   ],
   "source": [
    "# Quantity of bought goods by a specific user\n",
    "users = data['user_id'].value_counts()\n",
    "users"
   ]
  },
  {
   "cell_type": "code",
   "execution_count": 290,
   "id": "2f8df009-18f3-4674-90ef-4bcd0892c21f",
   "metadata": {},
   "outputs": [
    {
     "data": {
      "text/plain": [
       "count    1.057265e+06\n",
       "mean     1.821614e+01\n",
       "std      2.562597e+01\n",
       "min      1.000000e+00\n",
       "25%      3.000000e+00\n",
       "50%      1.000000e+01\n",
       "75%      2.400000e+01\n",
       "max      3.339000e+03\n",
       "Name: count, dtype: float64"
      ]
     },
     "execution_count": 290,
     "metadata": {},
     "output_type": "execute_result"
    }
   ],
   "source": [
    "data['user_id'].value_counts().describe()"
   ]
  },
  {
   "cell_type": "markdown",
   "id": "bedcdcbb-6073-4037-8f93-9ea5c3ace060",
   "metadata": {},
   "source": [
    "Определено, сколько товаров купил каждый пользователь. Также определены количество, среднее значение, стандартное отклонение и т.п."
   ]
  },
  {
   "cell_type": "code",
   "execution_count": 292,
   "id": "5f9e5894-9138-4d10-b4eb-fd77a5c790d1",
   "metadata": {},
   "outputs": [
    {
     "data": {
      "text/html": [
       "<div>\n",
       "<style scoped>\n",
       "    .dataframe tbody tr th:only-of-type {\n",
       "        vertical-align: middle;\n",
       "    }\n",
       "\n",
       "    .dataframe tbody tr th {\n",
       "        vertical-align: top;\n",
       "    }\n",
       "\n",
       "    .dataframe thead th {\n",
       "        text-align: right;\n",
       "    }\n",
       "</style>\n",
       "<table border=\"1\" class=\"dataframe\">\n",
       "  <thead>\n",
       "    <tr style=\"text-align: right;\">\n",
       "      <th></th>\n",
       "      <th>count</th>\n",
       "      <th>purchasing power</th>\n",
       "    </tr>\n",
       "    <tr>\n",
       "      <th>user_id</th>\n",
       "      <th></th>\n",
       "      <th></th>\n",
       "    </tr>\n",
       "  </thead>\n",
       "  <tbody>\n",
       "    <tr>\n",
       "      <th>173306</th>\n",
       "      <td>3339</td>\n",
       "      <td>high</td>\n",
       "    </tr>\n",
       "    <tr>\n",
       "      <th>305110</th>\n",
       "      <td>2587</td>\n",
       "      <td>high</td>\n",
       "    </tr>\n",
       "    <tr>\n",
       "      <th>815043</th>\n",
       "      <td>2579</td>\n",
       "      <td>high</td>\n",
       "    </tr>\n",
       "    <tr>\n",
       "      <th>42097</th>\n",
       "      <td>2464</td>\n",
       "      <td>high</td>\n",
       "    </tr>\n",
       "    <tr>\n",
       "      <th>570310</th>\n",
       "      <td>2097</td>\n",
       "      <td>high</td>\n",
       "    </tr>\n",
       "    <tr>\n",
       "      <th>...</th>\n",
       "      <td>...</td>\n",
       "      <td>...</td>\n",
       "    </tr>\n",
       "    <tr>\n",
       "      <th>162064</th>\n",
       "      <td>1</td>\n",
       "      <td>low</td>\n",
       "    </tr>\n",
       "    <tr>\n",
       "      <th>747703</th>\n",
       "      <td>1</td>\n",
       "      <td>low</td>\n",
       "    </tr>\n",
       "    <tr>\n",
       "      <th>495054</th>\n",
       "      <td>1</td>\n",
       "      <td>low</td>\n",
       "    </tr>\n",
       "    <tr>\n",
       "      <th>600871</th>\n",
       "      <td>1</td>\n",
       "      <td>low</td>\n",
       "    </tr>\n",
       "    <tr>\n",
       "      <th>342597</th>\n",
       "      <td>1</td>\n",
       "      <td>low</td>\n",
       "    </tr>\n",
       "  </tbody>\n",
       "</table>\n",
       "<p>1057265 rows × 2 columns</p>\n",
       "</div>"
      ],
      "text/plain": [
       "         count purchasing power\n",
       "user_id                        \n",
       "173306    3339             high\n",
       "305110    2587             high\n",
       "815043    2579             high\n",
       "42097     2464             high\n",
       "570310    2097             high\n",
       "...        ...              ...\n",
       "162064       1              low\n",
       "747703       1              low\n",
       "495054       1              low\n",
       "600871       1              low\n",
       "342597       1              low\n",
       "\n",
       "[1057265 rows x 2 columns]"
      ]
     },
     "execution_count": 292,
     "metadata": {},
     "output_type": "execute_result"
    }
   ],
   "source": [
    "# Purchasing power of users\n",
    "users_list = pd.DataFrame(users)\n",
    "users_list['purchasing power'] = users_list['count'].apply(lambda x: 'high' if  x > 100 else 'mid' if x > 30 else 'low' )\n",
    "users_list"
   ]
  },
  {
   "cell_type": "code",
   "execution_count": 293,
   "id": "7d6b2844-8c98-4bc6-b8e0-7fcb11cba783",
   "metadata": {},
   "outputs": [
    {
     "data": {
      "text/plain": [
       "<BarContainer object of 3 artists>"
      ]
     },
     "execution_count": 293,
     "metadata": {},
     "output_type": "execute_result"
    },
    {
     "data": {
      "image/png": "[encoded data removed]",
      "text/plain": [
       "<Figure size 640x480 with 1 Axes>"
      ]
     },
     "metadata": {},
     "output_type": "display_data"
    }
   ],
   "source": [
    "groups = users_list[\"purchasing power\"].unique()\n",
    "counts = [users_list[\"purchasing power\"].value_counts(sort=False).iloc[x] for x in range(len(users_list[\"purchasing power\"].value_counts(sort=False)))]\n",
    "plt.bar(groups[:len(counts)], counts)"
   ]
  },
  {
   "cell_type": "markdown",
   "id": "140cdbf1-b3d3-44ea-887a-4429a997794d",
   "metadata": {},
   "source": [
    "На основании количества покупок, определили \"покупательскую силу\" каждого пользователя"
   ]
  },
  {
   "cell_type": "code",
   "execution_count": 295,
   "id": "3be73b8e-0e45-4672-bae3-3fa72b937cc5",
   "metadata": {},
   "outputs": [
    {
     "data": {
      "text/plain": [
       "item_id\n",
       "192     404127\n",
       "69      326097\n",
       "390     305835\n",
       "357     280828\n",
       "11      273874\n",
       "         ...  \n",
       "5898         1\n",
       "6562         1\n",
       "6254         1\n",
       "5909         1\n",
       "7384         1\n",
       "Name: count, Length: 6562, dtype: int64"
      ]
     },
     "execution_count": 295,
     "metadata": {},
     "output_type": "execute_result"
    }
   ],
   "source": [
    "# Quantity of specific good that was sold\n",
    "data['item_id'].value_counts()"
   ]
  },
  {
   "cell_type": "code",
   "execution_count": 296,
   "id": "d65ddb8c-8c41-4195-abf6-02ab6356ba06",
   "metadata": {},
   "outputs": [
    {
     "data": {
      "text/plain": [
       "count      6562.000000\n",
       "mean       2934.972112\n",
       "std       14037.097527\n",
       "min           1.000000\n",
       "25%          32.000000\n",
       "50%         210.000000\n",
       "75%        1155.500000\n",
       "max      404127.000000\n",
       "Name: count, dtype: float64"
      ]
     },
     "execution_count": 296,
     "metadata": {},
     "output_type": "execute_result"
    }
   ],
   "source": [
    "data['item_id'].value_counts().describe()"
   ]
  },
  {
   "cell_type": "markdown",
   "id": "0a524dce-a86a-4496-802f-23fe3ab2d4ec",
   "metadata": {},
   "source": [
    "Узнали, сколько видов каждого товара купили и какие самые покупаемые товары. Также определены количество, среднее значение, стандартное отклонение и т.п."
   ]
  },
  {
   "cell_type": "code",
   "execution_count": 298,
   "id": "2ca58c3b-dce5-4e3c-a010-037af9b46442",
   "metadata": {},
   "outputs": [],
   "source": [
    "# Current timestamp\n",
    "current_timestamp = datetime.strptime(datetime.now().isoformat()[:10] + ' ' + datetime.now().isoformat()[11:], '%Y-%m-%d %H:%M:%S.%f').timestamp()\n",
    "stamps = data[\"order_ts\"].apply(lambda x: datetime.strptime(x, '%Y-%m-%d %H:%M:%S.%f').timestamp())"
   ]
  },
  {
   "cell_type": "code",
   "execution_count": 299,
   "id": "c28976db-7649-4fe7-b86d-d9f15719fd09",
   "metadata": {},
   "outputs": [
    {
     "data": {
      "text/html": [
       "<div>\n",
       "<style scoped>\n",
       "    .dataframe tbody tr th:only-of-type {\n",
       "        vertical-align: middle;\n",
       "    }\n",
       "\n",
       "    .dataframe tbody tr th {\n",
       "        vertical-align: top;\n",
       "    }\n",
       "\n",
       "    .dataframe thead th {\n",
       "        text-align: right;\n",
       "    }\n",
       "</style>\n",
       "<table border=\"1\" class=\"dataframe\">\n",
       "  <thead>\n",
       "    <tr style=\"text-align: right;\">\n",
       "      <th></th>\n",
       "      <th>user_id</th>\n",
       "      <th>item_id</th>\n",
       "      <th>order_ts</th>\n",
       "      <th>recency</th>\n",
       "    </tr>\n",
       "  </thead>\n",
       "  <tbody>\n",
       "    <tr>\n",
       "      <th>0</th>\n",
       "      <td>550614</td>\n",
       "      <td>264</td>\n",
       "      <td>2023-01-01 00:28:09.000000</td>\n",
       "      <td>old order</td>\n",
       "    </tr>\n",
       "    <tr>\n",
       "      <th>1</th>\n",
       "      <td>571051</td>\n",
       "      <td>580</td>\n",
       "      <td>2023-01-01 00:41:47.000000</td>\n",
       "      <td>old order</td>\n",
       "    </tr>\n",
       "    <tr>\n",
       "      <th>2</th>\n",
       "      <td>571051</td>\n",
       "      <td>180</td>\n",
       "      <td>2023-01-01 00:41:47.000000</td>\n",
       "      <td>old order</td>\n",
       "    </tr>\n",
       "    <tr>\n",
       "      <th>3</th>\n",
       "      <td>47164</td>\n",
       "      <td>5135</td>\n",
       "      <td>2023-01-01 00:53:35.000000</td>\n",
       "      <td>old order</td>\n",
       "    </tr>\n",
       "    <tr>\n",
       "      <th>4</th>\n",
       "      <td>219072</td>\n",
       "      <td>2668</td>\n",
       "      <td>2023-01-01 01:02:29.000000</td>\n",
       "      <td>old order</td>\n",
       "    </tr>\n",
       "    <tr>\n",
       "      <th>...</th>\n",
       "      <td>...</td>\n",
       "      <td>...</td>\n",
       "      <td>...</td>\n",
       "      <td>...</td>\n",
       "    </tr>\n",
       "    <tr>\n",
       "      <th>21265778</th>\n",
       "      <td>456675</td>\n",
       "      <td>5507</td>\n",
       "      <td>2023-03-31 23:48:07.498359</td>\n",
       "      <td>recent order</td>\n",
       "    </tr>\n",
       "    <tr>\n",
       "      <th>21265779</th>\n",
       "      <td>249269</td>\n",
       "      <td>348</td>\n",
       "      <td>2023-03-31 23:55:37.182803</td>\n",
       "      <td>recent order</td>\n",
       "    </tr>\n",
       "    <tr>\n",
       "      <th>21265780</th>\n",
       "      <td>373951</td>\n",
       "      <td>3835</td>\n",
       "      <td>2023-03-31 23:59:24.148327</td>\n",
       "      <td>recent order</td>\n",
       "    </tr>\n",
       "    <tr>\n",
       "      <th>21265781</th>\n",
       "      <td>505474</td>\n",
       "      <td>1340</td>\n",
       "      <td>2023-03-31 23:59:24.161567</td>\n",
       "      <td>recent order</td>\n",
       "    </tr>\n",
       "    <tr>\n",
       "      <th>21265783</th>\n",
       "      <td>756570</td>\n",
       "      <td>6623</td>\n",
       "      <td>2023-03-31 23:59:51.669277</td>\n",
       "      <td>recent order</td>\n",
       "    </tr>\n",
       "  </tbody>\n",
       "</table>\n",
       "<p>19259287 rows × 4 columns</p>\n",
       "</div>"
      ],
      "text/plain": [
       "          user_id  item_id                    order_ts       recency\n",
       "0          550614      264  2023-01-01 00:28:09.000000     old order\n",
       "1          571051      580  2023-01-01 00:41:47.000000     old order\n",
       "2          571051      180  2023-01-01 00:41:47.000000     old order\n",
       "3           47164     5135  2023-01-01 00:53:35.000000     old order\n",
       "4          219072     2668  2023-01-01 01:02:29.000000     old order\n",
       "...           ...      ...                         ...           ...\n",
       "21265778   456675     5507  2023-03-31 23:48:07.498359  recent order\n",
       "21265779   249269      348  2023-03-31 23:55:37.182803  recent order\n",
       "21265780   373951     3835  2023-03-31 23:59:24.148327  recent order\n",
       "21265781   505474     1340  2023-03-31 23:59:24.161567  recent order\n",
       "21265783   756570     6623  2023-03-31 23:59:51.669277  recent order\n",
       "\n",
       "[19259287 rows x 4 columns]"
      ]
     },
     "execution_count": 299,
     "metadata": {},
     "output_type": "execute_result"
    }
   ],
   "source": [
    "# Recency calculation\n",
    "data['recency'] = stamps.apply(lambda x: 'recent order' if current_timestamp - x < 44582400 else 'decent order' if current_timestamp - x < 47174400 else 'old order' )\n",
    "data"
   ]
  },
  {
   "cell_type": "markdown",
   "id": "c8610a6e-18d6-4cc2-964f-d2780bb22d3c",
   "metadata": {},
   "source": [
    "Классифицировали заказы по давности. Недавние заказы используем в первую очередь."
   ]
  },
  {
   "cell_type": "code",
   "execution_count": 301,
   "id": "8126272d-99ee-4de4-94ce-8dad9ed21436",
   "metadata": {},
   "outputs": [
    {
     "data": {
      "text/plain": [
       "order_ts\n",
       "2023-03-13 16:25:54.593448    139\n",
       "2023-02-14 10:30:38.283756    119\n",
       "2023-03-20 19:45:20.386081    116\n",
       "2023-02-27 11:12:32.471646    114\n",
       "2023-01-10 08:24:31.000000    107\n",
       "                             ... \n",
       "2023-02-07 16:14:46.854091      1\n",
       "2023-02-07 16:14:58.000000      1\n",
       "2023-02-07 16:15:48.000000      1\n",
       "2023-02-07 16:16:06.274908      1\n",
       "2023-03-31 23:59:24.148327      1\n",
       "Name: count, Length: 14860520, dtype: int64"
      ]
     },
     "execution_count": 301,
     "metadata": {},
     "output_type": "execute_result"
    }
   ],
   "source": [
    "# Orders by data\n",
    "data['order_ts'].value_counts()"
   ]
  },
  {
   "cell_type": "markdown",
   "id": "22287dc8-dc0f-4fc9-81ad-d1b93ee48bbd",
   "metadata": {},
   "source": [
    "Узнали количество заказов в определенный момент времени и определили самые популярные моменты для покупок."
   ]
  },
  {
   "cell_type": "code",
   "execution_count": 303,
   "id": "9d24efd5-e2fe-4b97-86fd-47fe81b75129",
   "metadata": {},
   "outputs": [
    {
     "data": {
      "text/html": [
       "<div>\n",
       "<style scoped>\n",
       "    .dataframe tbody tr th:only-of-type {\n",
       "        vertical-align: middle;\n",
       "    }\n",
       "\n",
       "    .dataframe tbody tr th {\n",
       "        vertical-align: top;\n",
       "    }\n",
       "\n",
       "    .dataframe thead th {\n",
       "        text-align: right;\n",
       "    }\n",
       "</style>\n",
       "<table border=\"1\" class=\"dataframe\">\n",
       "  <thead>\n",
       "    <tr style=\"text-align: right;\">\n",
       "      <th></th>\n",
       "      <th>user_id</th>\n",
       "      <th>item_id</th>\n",
       "      <th>order_ts</th>\n",
       "      <th>recency</th>\n",
       "      <th>month</th>\n",
       "      <th>season</th>\n",
       "    </tr>\n",
       "  </thead>\n",
       "  <tbody>\n",
       "    <tr>\n",
       "      <th>0</th>\n",
       "      <td>550614</td>\n",
       "      <td>264</td>\n",
       "      <td>2023-01-01 00:28:09.000000</td>\n",
       "      <td>old order</td>\n",
       "      <td>1</td>\n",
       "      <td>winter</td>\n",
       "    </tr>\n",
       "    <tr>\n",
       "      <th>1</th>\n",
       "      <td>571051</td>\n",
       "      <td>580</td>\n",
       "      <td>2023-01-01 00:41:47.000000</td>\n",
       "      <td>old order</td>\n",
       "      <td>1</td>\n",
       "      <td>winter</td>\n",
       "    </tr>\n",
       "    <tr>\n",
       "      <th>2</th>\n",
       "      <td>571051</td>\n",
       "      <td>180</td>\n",
       "      <td>2023-01-01 00:41:47.000000</td>\n",
       "      <td>old order</td>\n",
       "      <td>1</td>\n",
       "      <td>winter</td>\n",
       "    </tr>\n",
       "    <tr>\n",
       "      <th>3</th>\n",
       "      <td>47164</td>\n",
       "      <td>5135</td>\n",
       "      <td>2023-01-01 00:53:35.000000</td>\n",
       "      <td>old order</td>\n",
       "      <td>1</td>\n",
       "      <td>winter</td>\n",
       "    </tr>\n",
       "    <tr>\n",
       "      <th>4</th>\n",
       "      <td>219072</td>\n",
       "      <td>2668</td>\n",
       "      <td>2023-01-01 01:02:29.000000</td>\n",
       "      <td>old order</td>\n",
       "      <td>1</td>\n",
       "      <td>winter</td>\n",
       "    </tr>\n",
       "    <tr>\n",
       "      <th>...</th>\n",
       "      <td>...</td>\n",
       "      <td>...</td>\n",
       "      <td>...</td>\n",
       "      <td>...</td>\n",
       "      <td>...</td>\n",
       "      <td>...</td>\n",
       "    </tr>\n",
       "    <tr>\n",
       "      <th>21265778</th>\n",
       "      <td>456675</td>\n",
       "      <td>5507</td>\n",
       "      <td>2023-03-31 23:48:07.498359</td>\n",
       "      <td>recent order</td>\n",
       "      <td>3</td>\n",
       "      <td>spring</td>\n",
       "    </tr>\n",
       "    <tr>\n",
       "      <th>21265779</th>\n",
       "      <td>249269</td>\n",
       "      <td>348</td>\n",
       "      <td>2023-03-31 23:55:37.182803</td>\n",
       "      <td>recent order</td>\n",
       "      <td>3</td>\n",
       "      <td>spring</td>\n",
       "    </tr>\n",
       "    <tr>\n",
       "      <th>21265780</th>\n",
       "      <td>373951</td>\n",
       "      <td>3835</td>\n",
       "      <td>2023-03-31 23:59:24.148327</td>\n",
       "      <td>recent order</td>\n",
       "      <td>3</td>\n",
       "      <td>spring</td>\n",
       "    </tr>\n",
       "    <tr>\n",
       "      <th>21265781</th>\n",
       "      <td>505474</td>\n",
       "      <td>1340</td>\n",
       "      <td>2023-03-31 23:59:24.161567</td>\n",
       "      <td>recent order</td>\n",
       "      <td>3</td>\n",
       "      <td>spring</td>\n",
       "    </tr>\n",
       "    <tr>\n",
       "      <th>21265783</th>\n",
       "      <td>756570</td>\n",
       "      <td>6623</td>\n",
       "      <td>2023-03-31 23:59:51.669277</td>\n",
       "      <td>recent order</td>\n",
       "      <td>3</td>\n",
       "      <td>spring</td>\n",
       "    </tr>\n",
       "  </tbody>\n",
       "</table>\n",
       "<p>19259287 rows × 6 columns</p>\n",
       "</div>"
      ],
      "text/plain": [
       "          user_id  item_id                    order_ts       recency  month  \\\n",
       "0          550614      264  2023-01-01 00:28:09.000000     old order      1   \n",
       "1          571051      580  2023-01-01 00:41:47.000000     old order      1   \n",
       "2          571051      180  2023-01-01 00:41:47.000000     old order      1   \n",
       "3           47164     5135  2023-01-01 00:53:35.000000     old order      1   \n",
       "4          219072     2668  2023-01-01 01:02:29.000000     old order      1   \n",
       "...           ...      ...                         ...           ...    ...   \n",
       "21265778   456675     5507  2023-03-31 23:48:07.498359  recent order      3   \n",
       "21265779   249269      348  2023-03-31 23:55:37.182803  recent order      3   \n",
       "21265780   373951     3835  2023-03-31 23:59:24.148327  recent order      3   \n",
       "21265781   505474     1340  2023-03-31 23:59:24.161567  recent order      3   \n",
       "21265783   756570     6623  2023-03-31 23:59:51.669277  recent order      3   \n",
       "\n",
       "          season  \n",
       "0         winter  \n",
       "1         winter  \n",
       "2         winter  \n",
       "3         winter  \n",
       "4         winter  \n",
       "...          ...  \n",
       "21265778  spring  \n",
       "21265779  spring  \n",
       "21265780  spring  \n",
       "21265781  spring  \n",
       "21265783  spring  \n",
       "\n",
       "[19259287 rows x 6 columns]"
      ]
     },
     "execution_count": 303,
     "metadata": {},
     "output_type": "execute_result"
    }
   ],
   "source": [
    "data[\"month\"] = data[\"order_ts\"].str[5:7].astype(int)\n",
    "data[\"season\"] = data[\"month\"].apply(lambda x: \"winter\" if x in [12, 1, 2] else \"spring\" if x in [3, 4, 5] else \"summer\" if x in [6, 7, 8] else \"autumn\" if x in [9, 10, 11] else \"month not found\")\n",
    "data"
   ]
  },
  {
   "cell_type": "markdown",
   "id": "8f727624-6b60-4b16-8426-980820af46cd",
   "metadata": {},
   "source": [
    "Добавлены колонки с месяцем и временем года покупки."
   ]
  },
  {
   "cell_type": "code",
   "execution_count": 305,
   "id": "cb6945d4-5122-4e6d-9113-e21582cb4299",
   "metadata": {},
   "outputs": [
    {
     "data": {
      "text/plain": [
       "<BarContainer object of 2 artists>"
      ]
     },
     "execution_count": 305,
     "metadata": {},
     "output_type": "execute_result"
    },
    {
     "data": {
      "image/png": "[encoded data removed]",
      "text/plain": [
       "<Figure size 640x480 with 1 Axes>"
      ]
     },
     "metadata": {},
     "output_type": "display_data"
    }
   ],
   "source": [
    "# Orders by season\n",
    "groups = ['winter', 'spring', 'summer', 'autumn']\n",
    "counts = [data[\"season\"].value_counts().iloc[x] for x in range(len(data[\"season\"].value_counts()))]\n",
    "plt.bar(groups[:len(counts)], counts)"
   ]
  },
  {
   "cell_type": "markdown",
   "id": "788283e7-befa-4974-b75a-fa801a6c7d3b",
   "metadata": {},
   "source": [
    "Представлен график покупок по времени года. На его основании можно сделать вывод о том, что большинство покупок было сделано зимой"
   ]
  },
  {
   "cell_type": "code",
   "execution_count": 307,
   "id": "d281c4b2-9043-4273-9cf4-7c0e7d7fb937",
   "metadata": {},
   "outputs": [
    {
     "data": {
      "text/plain": [
       "<BarContainer object of 3 artists>"
      ]
     },
     "execution_count": 307,
     "metadata": {},
     "output_type": "execute_result"
    },
    {
     "data": {
      "image/png": "[encoded data removed]",
      "text/plain": [
       "<Figure size 640x480 with 1 Axes>"
      ]
     },
     "metadata": {},
     "output_type": "display_data"
    }
   ],
   "source": [
    "# Orders by month\n",
    "groups = data['month']\n",
    "counts = [data[\"month\"].value_counts(sort=False).iloc[x] for x in range(len(data[\"month\"].value_counts(sort=False)))]\n",
    "plt.xticks(rotation=90)\n",
    "plt.gca().xaxis.set_major_locator(MaxNLocator(integer=True))\n",
    "plt.bar(groups.unique(), counts)"
   ]
  },
  {
   "cell_type": "markdown",
   "id": "0b4c5654-846b-48e2-9b13-cd40c1326be8",
   "metadata": {},
   "source": [
    "Исходя из гистограммы, большинство покупок было сделано в третьем месяце."
   ]
  },
  {
   "cell_type": "code",
   "execution_count": 309,
   "id": "fac410fd-3971-4564-adb3-935475d02410",
   "metadata": {},
   "outputs": [
    {
     "data": {
      "text/plain": [
       "<BarContainer object of 90 artists>"
      ]
     },
     "execution_count": 309,
     "metadata": {},
     "output_type": "execute_result"
    },
    {
     "data": {
      "image/png": "[encoded data removed]",
      "text/plain": [
       "<Figure size 1200x1200 with 1 Axes>"
      ]
     },
     "metadata": {},
     "output_type": "display_data"
    }
   ],
   "source": [
    "# Orders distribution\n",
    "dates = data[\"order_ts\"].apply(lambda x: x[:10])\n",
    "count = [dates.value_counts().sort_index().iloc[x] for x in range(len(dates.value_counts()))]\n",
    "plt.figure(figsize=(12, 12))\n",
    "plt.xticks(rotation=90)\n",
    "plt.bar(dates.unique(), count)"
   ]
  },
  {
   "cell_type": "markdown",
   "id": "b581d221-5e45-4848-9378-a3d9ff5b5fe2",
   "metadata": {},
   "source": [
    "Распределение заказов по дням."
   ]
  },
  {
   "cell_type": "code",
   "execution_count": 311,
   "id": "e1ecbbc4-d331-4eda-9906-c5af126710c7",
   "metadata": {},
   "outputs": [
    {
     "data": {
      "text/html": [
       "<div>\n",
       "<style scoped>\n",
       "    .dataframe tbody tr th:only-of-type {\n",
       "        vertical-align: middle;\n",
       "    }\n",
       "\n",
       "    .dataframe tbody tr th {\n",
       "        vertical-align: top;\n",
       "    }\n",
       "\n",
       "    .dataframe thead th {\n",
       "        text-align: right;\n",
       "    }\n",
       "</style>\n",
       "<table border=\"1\" class=\"dataframe\">\n",
       "  <thead>\n",
       "    <tr style=\"text-align: right;\">\n",
       "      <th></th>\n",
       "      <th>weekdays</th>\n",
       "    </tr>\n",
       "    <tr>\n",
       "      <th>date</th>\n",
       "      <th></th>\n",
       "    </tr>\n",
       "  </thead>\n",
       "  <tbody>\n",
       "    <tr>\n",
       "      <th>2023-01-01</th>\n",
       "      <td>sunday</td>\n",
       "    </tr>\n",
       "    <tr>\n",
       "      <th>2023-01-02</th>\n",
       "      <td>monday</td>\n",
       "    </tr>\n",
       "    <tr>\n",
       "      <th>2023-01-03</th>\n",
       "      <td>tuesday</td>\n",
       "    </tr>\n",
       "    <tr>\n",
       "      <th>2023-01-04</th>\n",
       "      <td>wednesday</td>\n",
       "    </tr>\n",
       "    <tr>\n",
       "      <th>2023-01-05</th>\n",
       "      <td>thursday</td>\n",
       "    </tr>\n",
       "    <tr>\n",
       "      <th>...</th>\n",
       "      <td>...</td>\n",
       "    </tr>\n",
       "    <tr>\n",
       "      <th>2023-03-27</th>\n",
       "      <td>monday</td>\n",
       "    </tr>\n",
       "    <tr>\n",
       "      <th>2023-03-28</th>\n",
       "      <td>tuesday</td>\n",
       "    </tr>\n",
       "    <tr>\n",
       "      <th>2023-03-29</th>\n",
       "      <td>wednesday</td>\n",
       "    </tr>\n",
       "    <tr>\n",
       "      <th>2023-03-30</th>\n",
       "      <td>thursday</td>\n",
       "    </tr>\n",
       "    <tr>\n",
       "      <th>2023-03-31</th>\n",
       "      <td>friday</td>\n",
       "    </tr>\n",
       "  </tbody>\n",
       "</table>\n",
       "<p>90 rows × 1 columns</p>\n",
       "</div>"
      ],
      "text/plain": [
       "             weekdays\n",
       "date                 \n",
       "2023-01-01     sunday\n",
       "2023-01-02     monday\n",
       "2023-01-03    tuesday\n",
       "2023-01-04  wednesday\n",
       "2023-01-05   thursday\n",
       "...               ...\n",
       "2023-03-27     monday\n",
       "2023-03-28    tuesday\n",
       "2023-03-29  wednesday\n",
       "2023-03-30   thursday\n",
       "2023-03-31     friday\n",
       "\n",
       "[90 rows x 1 columns]"
      ]
     },
     "execution_count": 311,
     "metadata": {},
     "output_type": "execute_result"
    }
   ],
   "source": [
    "repeated_days = ['sunday', 'monday', 'tuesday', 'wednesday', 'thursday', 'friday', 'saturday']\n",
    "dates_frame = pd.DataFrame({'date': dates.unique()})\n",
    "repeats = len(dates_frame) // len(repeated_days) + 1\n",
    "dates_frame['weekdays'] = np.tile(repeated_days, repeats)[:len(dates_frame)]\n",
    "dates_frame.set_index('date', inplace=True)\n",
    "dates_frame"
   ]
  },
  {
   "cell_type": "markdown",
   "id": "d728851d-e49e-4396-ab6c-0328d65e4352",
   "metadata": {},
   "source": [
    "Определим день недели в каждую дату."
   ]
  },
  {
   "cell_type": "code",
   "execution_count": 313,
   "id": "df2c555d-60fa-4429-96e0-71f4e05a014f",
   "metadata": {},
   "outputs": [],
   "source": [
    "final_dates = pd.DataFrame(dates, index=dates)\n",
    "del final_dates['order_ts']\n",
    "final_dates = final_dates.join(dates_frame)"
   ]
  },
  {
   "cell_type": "code",
   "execution_count": 314,
   "id": "f78df2d9-01f2-4fbf-867f-4731c465766d",
   "metadata": {},
   "outputs": [
    {
     "data": {
      "text/plain": [
       "<BarContainer object of 7 artists>"
      ]
     },
     "execution_count": 314,
     "metadata": {},
     "output_type": "execute_result"
    },
    {
     "data": {
      "image/png": "[encoded data removed]",
      "text/plain": [
       "<Figure size 640x480 with 1 Axes>"
      ]
     },
     "metadata": {},
     "output_type": "display_data"
    }
   ],
   "source": [
    "count = [final_dates['weekdays'].value_counts(sort=False).iloc[x] for x in range(len(final_dates['weekdays'].value_counts(sort=False)))]\n",
    "plt.xticks(rotation=90)\n",
    "plt.bar(repeated_days, count)"
   ]
  },
  {
   "cell_type": "markdown",
   "id": "80a16d00-9b27-4039-b982-c9c8cd872c73",
   "metadata": {},
   "source": [
    "Исходя из полученного распределения, можно сделать вывод о том, что больше всего заказов совершалось в воскресенье."
   ]
  },
  {
   "cell_type": "markdown",
   "id": "b2335ef6-b6f4-4acb-9e66-934d3d1ffd9b",
   "metadata": {},
   "source": [
    "# Сравнение подходов к решению задачи рекомендательной системы\n",
    "|Подход|Достоинства|Недостатки|\r\n",
    "|:---------|:--------:|---------:|\r",
    "Коллаборативная фильтрация.|Рекомендации даются на основе интересов других похожих пользователей.В результате работы коллаборативной фильтрации можно получать как прогнозы, так и рекомендации.|Холодный старт(неполнота и недостаточность информации в самом начале о новом продукте, услуге, а так же и о пользователе), масштабируемость (невозможность моментального отклика системы из-за сложных расчетов алгоритма коллаборативной фильтрации вмещающем информацию о большом количестве пользователей и предметов в системе), разреженность данных (пользователи не всегда ставят оценки всем приобретенным товарам, из-за чего построенная системой матрица «предмет-пользователь» получается очень большой и разреженной, что приводит к сложности расчета рекомендаций). \n",
    "|Контентная фильтрация.|Процесс рекомендации базируется на особенностях предыдущих действий пользователя, а интересы других пользователей никак на него не влияют. Также, в случае изменения профиля пользователя система может скорректировать предсказания за достаточно короткое время.|Требует обязательного описания товара и предыдущих оценок пользователя. \n",
    " Гибридная фильтрация.|Cочетает в себе различные методы и подходы, что позволяет минимизировать ошибки в процессе рекомендаций. Идея подхода заключается в том, что недостатки одного метода нивелируется преимуществами другого.|Сложно объединить различные алгоритмы и подходы, что требует значительных усилий и ресурсов. Необходимость настройки множества гиперпараметров для каждого метода может усложнить процесс.|\n",
    "\n",
    "Из-за того, что данный датасет содержит в себе лишь данные о заказах и не содержит данных о товарах и оценках пользователя, оптимальным выбором будет коллаборативная фильтрация. Рассмотрим алгоритмы, использующиеся в коллаборативной фильтрации.\n",
    "|Алгоритм|Достоинства|Недостатки|\n",
    "|:---------|:--------:|---------:|\n",
    "|Методы на основе соседей. KNN (k-Nearest Neighbors).|Такие алгоритмы просты в реализации, их легко понять и реализовать. Результаты работы таких алгоритмов легко интерпретировать и они достаточно универсальны.|Плохая эффективность на больших наборах данных, сложности в нахождении схожестей при разреженных матрицах взаимодействий и сложности в рекомендации при малом количестве информации.|\n",
    "|Матричная факторизация. SVD, ALS, NMF.|Эффективно работает с разреженными матрицами, благодаря выявлению скрытых паттернов засчёт ALS. Уменьшая размерность данных, способствует снижению вычислительных затрат.|При отсутствии предыдущих данных, модель затрудняется в предсказании предпочтений. Сложность настройки гиперпараметров увеличивает вероятность overfitting'а или underfitting'а. Также модели матричной факторизации трудны для интерпретации, что усложняет их понимание.|\n",
    "|Генеративные модели.|Генеративные модели устойчивы к недостаткам данных, так как могут сами создавать синтетические данные. Они универсальные и могут быть адаптированы для различных типов данных.|Такие модели сложны в реализации и обучении. Они чувствительны к гиперпараметрам. Для качественного обучения требуется большое количество данных.|\n",
    "\n",
    "Рассмотрев достоинства и недостатки, можно сделать вывод о том, что для данной задачи эффективнее всего использовать методы на основе соседей или матричную факторизацию. Генеративные модели сложны в реализации, а на текущих данных их использование излишне. Если выбирать между двумя оставшимися методами, то эффективнее будет использовать KNN, так как данные достаточно полны и между ними несложно найти сходства.  |    |"
   ]
  }
 ],
 "metadata": {
  "kernelspec": {
   "display_name": "Python 3 (ipykernel)",
   "language": "python",
   "name": "python3"
  },
  "language_info": {
   "codemirror_mode": {
    "name": "ipython",
    "version": 3
   },
   "file_extension": ".py",
   "mimetype": "text/x-python",
   "name": "python",
   "nbconvert_exporter": "python",
   "pygments_lexer": "ipython3",
   "version": "3.12.4"
  }
 },
 "nbformat": 4,
 "nbformat_minor": 5
}
